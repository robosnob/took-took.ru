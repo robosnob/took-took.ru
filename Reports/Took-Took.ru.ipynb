{
 "cells": [
  {
   "cell_type": "code",
   "execution_count": 1,
   "metadata": {
    "collapsed": false
   },
   "outputs": [
    {
     "name": "stdout",
     "output_type": "stream",
     "text": [
      "Populating the interactive namespace from numpy and matplotlib\n"
     ]
    }
   ],
   "source": [
    "%pylab inline"
   ]
  },
  {
   "cell_type": "code",
   "execution_count": 3,
   "metadata": {
    "collapsed": true
   },
   "outputs": [],
   "source": [
    "import pandas as pd \n",
    "import numpy as np\n",
    "from pandas import Series, DataFrame\n",
    "from numpy import nan as NA\n",
    "from datetime import datetime, date\n",
    "from pandas.tseries.offsets import MonthEnd"
   ]
  },
  {
   "cell_type": "code",
   "execution_count": 4,
   "metadata": {
    "collapsed": true
   },
   "outputs": [],
   "source": [
    "report = pd.read_pickle('/Users/popov/Documents/Python/Pybursa/Web/report_pickle')\n",
    "data = pd.read_pickle('/Users/popov/Documents/Python/Pybursa/Web/data_pickle')"
   ]
  },
  {
   "cell_type": "code",
   "execution_count": 8,
   "metadata": {
    "collapsed": true
   },
   "outputs": [],
   "source": [
    "offset = MonthEnd()\n",
    "curr_month = report.index[-1].date()\n",
    "prev_month = curr_month - offset"
   ]
  },
  {
   "cell_type": "code",
   "execution_count": 13,
   "metadata": {
    "collapsed": true
   },
   "outputs": [],
   "source": [
    "se = report.columns[:5]"
   ]
  },
  {
   "cell_type": "code",
   "execution_count": 7,
   "metadata": {
    "collapsed": false
   },
   "outputs": [
    {
     "data": {
      "text/html": [
       "<div>\n",
       "<table border=\"1\" class=\"dataframe\">\n",
       "  <thead>\n",
       "    <tr style=\"text-align: right;\">\n",
       "      <th></th>\n",
       "      <th>Yandex</th>\n",
       "      <th>Google</th>\n",
       "      <th>Go.mail.ru</th>\n",
       "      <th>BRY</th>\n",
       "      <th>CPC</th>\n",
       "      <th>order</th>\n",
       "      <th>basket</th>\n",
       "      <th>contact</th>\n",
       "      <th>measure</th>\n",
       "    </tr>\n",
       "  </thead>\n",
       "  <tbody>\n",
       "    <tr>\n",
       "      <th>2016-01-31</th>\n",
       "      <td>3334</td>\n",
       "      <td>1157</td>\n",
       "      <td>512</td>\n",
       "      <td>114</td>\n",
       "      <td>847</td>\n",
       "      <td>6</td>\n",
       "      <td>160</td>\n",
       "      <td>367</td>\n",
       "      <td>16</td>\n",
       "    </tr>\n",
       "    <tr>\n",
       "      <th>2016-02-29</th>\n",
       "      <td>4471</td>\n",
       "      <td>1253</td>\n",
       "      <td>537</td>\n",
       "      <td>123</td>\n",
       "      <td>316</td>\n",
       "      <td>19</td>\n",
       "      <td>264</td>\n",
       "      <td>533</td>\n",
       "      <td>10</td>\n",
       "    </tr>\n",
       "    <tr>\n",
       "      <th>2016-03-31</th>\n",
       "      <td>5630</td>\n",
       "      <td>1683</td>\n",
       "      <td>597</td>\n",
       "      <td>88</td>\n",
       "      <td>543</td>\n",
       "      <td>22</td>\n",
       "      <td>217</td>\n",
       "      <td>571</td>\n",
       "      <td>20</td>\n",
       "    </tr>\n",
       "    <tr>\n",
       "      <th>2016-04-30</th>\n",
       "      <td>5946</td>\n",
       "      <td>1641</td>\n",
       "      <td>530</td>\n",
       "      <td>101</td>\n",
       "      <td>514</td>\n",
       "      <td>24</td>\n",
       "      <td>196</td>\n",
       "      <td>484</td>\n",
       "      <td>12</td>\n",
       "    </tr>\n",
       "    <tr>\n",
       "      <th>2016-05-31</th>\n",
       "      <td>5887</td>\n",
       "      <td>1470</td>\n",
       "      <td>479</td>\n",
       "      <td>69</td>\n",
       "      <td>228</td>\n",
       "      <td>21</td>\n",
       "      <td>243</td>\n",
       "      <td>485</td>\n",
       "      <td>27</td>\n",
       "    </tr>\n",
       "    <tr>\n",
       "      <th>2016-06-30</th>\n",
       "      <td>5913</td>\n",
       "      <td>1134</td>\n",
       "      <td>351</td>\n",
       "      <td>76</td>\n",
       "      <td>0</td>\n",
       "      <td>12</td>\n",
       "      <td>257</td>\n",
       "      <td>478</td>\n",
       "      <td>17</td>\n",
       "    </tr>\n",
       "    <tr>\n",
       "      <th>2016-07-31</th>\n",
       "      <td>5166</td>\n",
       "      <td>1108</td>\n",
       "      <td>364</td>\n",
       "      <td>58</td>\n",
       "      <td>0</td>\n",
       "      <td>15</td>\n",
       "      <td>213</td>\n",
       "      <td>396</td>\n",
       "      <td>20</td>\n",
       "    </tr>\n",
       "    <tr>\n",
       "      <th>2016-08-31</th>\n",
       "      <td>4689</td>\n",
       "      <td>1120</td>\n",
       "      <td>348</td>\n",
       "      <td>59</td>\n",
       "      <td>0</td>\n",
       "      <td>30</td>\n",
       "      <td>308</td>\n",
       "      <td>349</td>\n",
       "      <td>18</td>\n",
       "    </tr>\n",
       "    <tr>\n",
       "      <th>2016-09-30</th>\n",
       "      <td>4244</td>\n",
       "      <td>1071</td>\n",
       "      <td>302</td>\n",
       "      <td>53</td>\n",
       "      <td>0</td>\n",
       "      <td>6</td>\n",
       "      <td>238</td>\n",
       "      <td>321</td>\n",
       "      <td>15</td>\n",
       "    </tr>\n",
       "    <tr>\n",
       "      <th>2016-10-31</th>\n",
       "      <td>4153</td>\n",
       "      <td>1711</td>\n",
       "      <td>329</td>\n",
       "      <td>38</td>\n",
       "      <td>0</td>\n",
       "      <td>6</td>\n",
       "      <td>210</td>\n",
       "      <td>357</td>\n",
       "      <td>28</td>\n",
       "    </tr>\n",
       "    <tr>\n",
       "      <th>2016-11-30</th>\n",
       "      <td>3853</td>\n",
       "      <td>2491</td>\n",
       "      <td>304</td>\n",
       "      <td>46</td>\n",
       "      <td>0</td>\n",
       "      <td>14</td>\n",
       "      <td>224</td>\n",
       "      <td>436</td>\n",
       "      <td>21</td>\n",
       "    </tr>\n",
       "    <tr>\n",
       "      <th>2016-12-31</th>\n",
       "      <td>2781</td>\n",
       "      <td>2551</td>\n",
       "      <td>291</td>\n",
       "      <td>606</td>\n",
       "      <td>0</td>\n",
       "      <td>16</td>\n",
       "      <td>139</td>\n",
       "      <td>358</td>\n",
       "      <td>15</td>\n",
       "    </tr>\n",
       "    <tr>\n",
       "      <th>2017-01-31</th>\n",
       "      <td>2949</td>\n",
       "      <td>3084</td>\n",
       "      <td>375</td>\n",
       "      <td>511</td>\n",
       "      <td>0</td>\n",
       "      <td>4</td>\n",
       "      <td>243</td>\n",
       "      <td>355</td>\n",
       "      <td>8</td>\n",
       "    </tr>\n",
       "  </tbody>\n",
       "</table>\n",
       "</div>"
      ],
      "text/plain": [
       "            Yandex  Google  Go.mail.ru  BRY  CPC  order  basket  contact  \\\n",
       "2016-01-31    3334    1157         512  114  847      6     160      367   \n",
       "2016-02-29    4471    1253         537  123  316     19     264      533   \n",
       "2016-03-31    5630    1683         597   88  543     22     217      571   \n",
       "2016-04-30    5946    1641         530  101  514     24     196      484   \n",
       "2016-05-31    5887    1470         479   69  228     21     243      485   \n",
       "2016-06-30    5913    1134         351   76    0     12     257      478   \n",
       "2016-07-31    5166    1108         364   58    0     15     213      396   \n",
       "2016-08-31    4689    1120         348   59    0     30     308      349   \n",
       "2016-09-30    4244    1071         302   53    0      6     238      321   \n",
       "2016-10-31    4153    1711         329   38    0      6     210      357   \n",
       "2016-11-30    3853    2491         304   46    0     14     224      436   \n",
       "2016-12-31    2781    2551         291  606    0     16     139      358   \n",
       "2017-01-31    2949    3084         375  511    0      4     243      355   \n",
       "\n",
       "            measure  \n",
       "2016-01-31       16  \n",
       "2016-02-29       10  \n",
       "2016-03-31       20  \n",
       "2016-04-30       12  \n",
       "2016-05-31       27  \n",
       "2016-06-30       17  \n",
       "2016-07-31       20  \n",
       "2016-08-31       18  \n",
       "2016-09-30       15  \n",
       "2016-10-31       28  \n",
       "2016-11-30       21  \n",
       "2016-12-31       15  \n",
       "2017-01-31        8  "
      ]
     },
     "execution_count": 7,
     "metadata": {},
     "output_type": "execute_result"
    }
   ],
   "source": [
    "report"
   ]
  },
  {
   "cell_type": "code",
   "execution_count": null,
   "metadata": {
    "collapsed": false
   },
   "outputs": [],
   "source": [
    "fig = plt.figure()\n",
    "ax = fig.add_subplot(1, 1, 1)\n",
    "report[se].plot(ax=ax, kind='bar', stacked=True, alpha=0.5);\n",
    "ax.legend = None;\n",
    "ax.set_ylabel('Traffic');\n",
    "ticks = ax.set_xticklabels(['{:%b %Y}'.format(x) for x in report.index]);"
   ]
  },
  {
   "cell_type": "code",
   "execution_count": 11,
   "metadata": {
    "collapsed": false
   },
   "outputs": [
    {
     "data": {
      "text/html": [
       "<div>\n",
       "<table border=\"1\" class=\"dataframe\">\n",
       "  <thead>\n",
       "    <tr style=\"text-align: right;\">\n",
       "      <th></th>\n",
       "      <th>Yandex</th>\n",
       "      <th>Google</th>\n",
       "      <th>Go.mail.ru</th>\n",
       "      <th>BRY</th>\n",
       "      <th>CPC</th>\n",
       "      <th>order</th>\n",
       "      <th>basket</th>\n",
       "      <th>contact</th>\n",
       "      <th>measure</th>\n",
       "    </tr>\n",
       "  </thead>\n",
       "  <tbody>\n",
       "    <tr>\n",
       "      <th>2017-01-31</th>\n",
       "      <td>168</td>\n",
       "      <td>533</td>\n",
       "      <td>84</td>\n",
       "      <td>-95</td>\n",
       "      <td>0</td>\n",
       "      <td>-12</td>\n",
       "      <td>104</td>\n",
       "      <td>-3</td>\n",
       "      <td>-7</td>\n",
       "    </tr>\n",
       "  </tbody>\n",
       "</table>\n",
       "</div>"
      ],
      "text/plain": [
       "            Yandex  Google  Go.mail.ru  BRY  CPC  order  basket  contact  \\\n",
       "2017-01-31     168     533          84  -95    0    -12     104       -3   \n",
       "\n",
       "            measure  \n",
       "2017-01-31       -7  "
      ]
     },
     "execution_count": 11,
     "metadata": {},
     "output_type": "execute_result"
    }
   ],
   "source": [
    "rep_diff = report.diff(periods=1) # разница от месяца к месяцу\n",
    "rep_diff[curr_month:].astype(int)"
   ]
  }
 ],
 "metadata": {
  "kernelspec": {
   "display_name": "Python 3",
   "language": "python",
   "name": "python3"
  },
  "language_info": {
   "codemirror_mode": {
    "name": "ipython",
    "version": 3
   },
   "file_extension": ".py",
   "mimetype": "text/x-python",
   "name": "python",
   "nbconvert_exporter": "python",
   "pygments_lexer": "ipython3",
   "version": "3.5.1"
  }
 },
 "nbformat": 4,
 "nbformat_minor": 0
}
